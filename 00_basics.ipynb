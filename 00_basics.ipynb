{
 "cells": [
  {
   "cell_type": "markdown",
   "id": "6133e999",
   "metadata": {},
   "source": [
    "# Sympy"
   ]
  },
  {
   "cell_type": "code",
   "execution_count": 2,
   "id": "0c16c285",
   "metadata": {},
   "outputs": [],
   "source": [
    "from sympy import *"
   ]
  },
  {
   "cell_type": "markdown",
   "id": "fdf3f4a4",
   "metadata": {},
   "source": [
    "## Expression"
   ]
  },
  {
   "cell_type": "code",
   "execution_count": 3,
   "id": "fc13189b",
   "metadata": {},
   "outputs": [
    {
     "data": {
      "text/latex": [
       "$\\displaystyle 3$"
      ],
      "text/plain": [
       "3"
      ]
     },
     "execution_count": 3,
     "metadata": {},
     "output_type": "execute_result"
    }
   ],
   "source": [
    "Integer(3)"
   ]
  },
  {
   "cell_type": "code",
   "execution_count": 4,
   "id": "2d59ec9c",
   "metadata": {},
   "outputs": [
    {
     "data": {
      "text/latex": [
       "$\\displaystyle 4$"
      ],
      "text/plain": [
       "4"
      ]
     },
     "execution_count": 4,
     "metadata": {},
     "output_type": "execute_result"
    }
   ],
   "source": [
    "Rational(4)"
   ]
  },
  {
   "cell_type": "code",
   "execution_count": 7,
   "id": "40896fce",
   "metadata": {},
   "outputs": [
    {
     "data": {
      "text/plain": [
       "sympy.core.numbers.Integer"
      ]
     },
     "execution_count": 7,
     "metadata": {},
     "output_type": "execute_result"
    }
   ],
   "source": [
    "type(Integer(12) % Integer(5))"
   ]
  },
  {
   "cell_type": "code",
   "execution_count": 8,
   "id": "41d62fac",
   "metadata": {},
   "outputs": [
    {
     "data": {
      "text/plain": [
       "{2: 1, 3: 1, 7: 1}"
      ]
     },
     "execution_count": 8,
     "metadata": {},
     "output_type": "execute_result"
    }
   ],
   "source": [
    "factorint(42)"
   ]
  },
  {
   "cell_type": "code",
   "execution_count": 10,
   "id": "bf484e54",
   "metadata": {},
   "outputs": [
    {
     "data": {
      "text/plain": [
       "sympy.core.numbers.One"
      ]
     },
     "execution_count": 10,
     "metadata": {},
     "output_type": "execute_result"
    }
   ],
   "source": [
    "type(S(1))"
   ]
  },
  {
   "cell_type": "markdown",
   "id": "4cd01016",
   "metadata": {},
   "source": [
    "## Symbols"
   ]
  },
  {
   "cell_type": "code",
   "execution_count": 16,
   "id": "8851f603",
   "metadata": {},
   "outputs": [],
   "source": [
    "z = Symbol('z')\n",
    "x = Symbol('x', real=True)\n",
    "a = Symbol('a', positive=True)"
   ]
  },
  {
   "cell_type": "code",
   "execution_count": 17,
   "id": "4766b510",
   "metadata": {},
   "outputs": [
    {
     "data": {
      "text/plain": [
       "sympy.core.symbol.Symbol"
      ]
     },
     "execution_count": 17,
     "metadata": {},
     "output_type": "execute_result"
    }
   ],
   "source": [
    "type(z)"
   ]
  },
  {
   "cell_type": "code",
   "execution_count": 15,
   "id": "4e4726b4",
   "metadata": {},
   "outputs": [
    {
     "data": {
      "text/plain": [
       "sympy.core.symbol.Symbol"
      ]
     },
     "execution_count": 15,
     "metadata": {},
     "output_type": "execute_result"
    }
   ],
   "source": [
    "type(x)"
   ]
  },
  {
   "cell_type": "code",
   "execution_count": 18,
   "id": "e38f75a3",
   "metadata": {},
   "outputs": [
    {
     "data": {
      "text/plain": [
       "sympy.core.symbol.Symbol"
      ]
     },
     "execution_count": 18,
     "metadata": {},
     "output_type": "execute_result"
    }
   ],
   "source": [
    "type(a)"
   ]
  },
  {
   "cell_type": "code",
   "execution_count": 22,
   "id": "1360c94b",
   "metadata": {},
   "outputs": [
    {
     "data": {
      "text/plain": [
       "(a, b, c, i, j, k)"
      ]
     },
     "execution_count": 22,
     "metadata": {},
     "output_type": "execute_result"
    }
   ],
   "source": [
    "symbols('a:c, i:k')"
   ]
  },
  {
   "cell_type": "code",
   "execution_count": 26,
   "id": "a5155a3f",
   "metadata": {},
   "outputs": [
    {
     "data": {
      "text/plain": [
       "(x3, x4, x5, x6, x7, x8, x9, x10, x11)"
      ]
     },
     "execution_count": 26,
     "metadata": {},
     "output_type": "execute_result"
    }
   ],
   "source": [
    "symbols(\"x3:12\")"
   ]
  },
  {
   "cell_type": "code",
   "execution_count": 32,
   "id": "c8ef23f4",
   "metadata": {},
   "outputs": [
    {
     "data": {
      "text/latex": [
       "$\\displaystyle \\alpha$"
      ],
      "text/plain": [
       "alpha"
      ]
     },
     "execution_count": 32,
     "metadata": {},
     "output_type": "execute_result"
    }
   ],
   "source": [
    "a = Symbol(\"alpha\")\n",
    "a"
   ]
  },
  {
   "cell_type": "code",
   "execution_count": 34,
   "id": "4afa12a3",
   "metadata": {},
   "outputs": [
    {
     "data": {
      "text/plain": [
       "sympy.core.symbol.Symbol"
      ]
     },
     "execution_count": 34,
     "metadata": {},
     "output_type": "execute_result"
    }
   ],
   "source": [
    "type(a)"
   ]
  },
  {
   "cell_type": "code",
   "execution_count": 36,
   "id": "f9b9f27d",
   "metadata": {},
   "outputs": [
    {
     "data": {
      "text/latex": [
       "$\\displaystyle \\zeta$"
      ],
      "text/plain": [
       "zeta"
      ]
     },
     "execution_count": 36,
     "metadata": {},
     "output_type": "execute_result"
    }
   ],
   "source": [
    "Symbol(\"zeta\")"
   ]
  },
  {
   "cell_type": "code",
   "execution_count": 39,
   "id": "4081d4a8",
   "metadata": {},
   "outputs": [],
   "source": [
    "x, y = symbols('x y', real=True)"
   ]
  },
  {
   "cell_type": "code",
   "execution_count": 41,
   "id": "29c0eb99",
   "metadata": {},
   "outputs": [
    {
     "data": {
      "text/latex": [
       "$\\displaystyle \\left(x - y\\right) \\left(x + y\\right)$"
      ],
      "text/plain": [
       "(x - y)*(x + y)"
      ]
     },
     "execution_count": 41,
     "metadata": {},
     "output_type": "execute_result"
    }
   ],
   "source": [
    "(x+y)*(x-y)"
   ]
  },
  {
   "cell_type": "markdown",
   "id": "e1f20436",
   "metadata": {},
   "source": [
    "## Functions"
   ]
  },
  {
   "cell_type": "code",
   "execution_count": 42,
   "id": "39c466a7",
   "metadata": {},
   "outputs": [
    {
     "data": {
      "text/latex": [
       "$\\displaystyle \\cos{\\left(\\log{\\left(2 \\right)} \\right)}$"
      ],
      "text/plain": [
       "cos(log(2))"
      ]
     },
     "execution_count": 42,
     "metadata": {},
     "output_type": "execute_result"
    }
   ],
   "source": [
    "cos(log(2))"
   ]
  },
  {
   "cell_type": "code",
   "execution_count": 43,
   "id": "96d90dd5",
   "metadata": {},
   "outputs": [
    {
     "data": {
      "text/plain": [
       "sympy.core.function.FunctionClass"
      ]
     },
     "execution_count": 43,
     "metadata": {},
     "output_type": "execute_result"
    }
   ],
   "source": [
    "type(cos)"
   ]
  },
  {
   "cell_type": "code",
   "execution_count": 52,
   "id": "52d2b908",
   "metadata": {},
   "outputs": [],
   "source": [
    "g = Lambda([x], 1 - x**2)"
   ]
  },
  {
   "cell_type": "code",
   "execution_count": 53,
   "id": "4dc43a05",
   "metadata": {},
   "outputs": [
    {
     "data": {
      "text/latex": [
       "$\\displaystyle \\left( x \\mapsto 1 - x^{2} \\right)$"
      ],
      "text/plain": [
       "Lambda(x, 1 - x**2)"
      ]
     },
     "execution_count": 53,
     "metadata": {},
     "output_type": "execute_result"
    }
   ],
   "source": [
    "g"
   ]
  },
  {
   "cell_type": "code",
   "execution_count": 55,
   "id": "5dec7e45",
   "metadata": {},
   "outputs": [
    {
     "data": {
      "text/latex": [
       "$\\displaystyle -3$"
      ],
      "text/plain": [
       "-3"
      ]
     },
     "execution_count": 55,
     "metadata": {},
     "output_type": "execute_result"
    }
   ],
   "source": [
    "g(2)"
   ]
  },
  {
   "cell_type": "markdown",
   "id": "d9eb231c",
   "metadata": {},
   "source": [
    "## Manipulating Expressions\n",
    "\n",
    "```python\n",
    "integer\n",
    "rational\n",
    "constant\n",
    "symbol\n",
    "```\n",
    "\n",
    "all called `atoms`. All obey the following invariant\n",
    "\n",
    "`expr == expr.__class__(*expr.args)`\n",
    "\n",
    "all their properties derive solely from their type and the contents of their `.args` attribute"
   ]
  },
  {
   "cell_type": "code",
   "execution_count": 57,
   "id": "08e731e5",
   "metadata": {},
   "outputs": [
    {
     "data": {
      "text/plain": [
       "\"Lambda(Tuple(Symbol('x', real=True)), Add(Integer(1), Mul(Integer(-1), Pow(Symbol('x', real=True), Integer(2)))))\""
      ]
     },
     "execution_count": 57,
     "metadata": {},
     "output_type": "execute_result"
    }
   ],
   "source": [
    "# expression tree\n",
    "srepr(g)"
   ]
  },
  {
   "cell_type": "code",
   "execution_count": 63,
   "id": "3959528d",
   "metadata": {},
   "outputs": [
    {
     "data": {
      "text/latex": [
       "$\\displaystyle 2 e^{- x} \\log{\\left(1 - x \\right)}$"
      ],
      "text/plain": [
       "2*exp(-x)*log(1 - x)"
      ]
     },
     "execution_count": 63,
     "metadata": {},
     "output_type": "execute_result"
    }
   ],
   "source": [
    "expr = exp(-x)*log(1-x)*2\n",
    "expr"
   ]
  },
  {
   "cell_type": "code",
   "execution_count": 64,
   "id": "a14c496b",
   "metadata": {},
   "outputs": [
    {
     "data": {
      "text/plain": [
       "\"Mul(Integer(2), exp(Mul(Integer(-1), Symbol('x', real=True))), log(Add(Integer(1), Mul(Integer(-1), Symbol('x', real=True)))))\""
      ]
     },
     "execution_count": 64,
     "metadata": {},
     "output_type": "execute_result"
    }
   ],
   "source": [
    "srepr(expr)"
   ]
  },
  {
   "cell_type": "code",
   "execution_count": 65,
   "id": "f0c800c5",
   "metadata": {},
   "outputs": [
    {
     "data": {
      "text/plain": [
       "[2*exp(-x)*log(1 - x), 2, exp(-x), -x, -1, x, log(1 - x), 1 - x, 1, -x, -1, x]"
      ]
     },
     "execution_count": 65,
     "metadata": {},
     "output_type": "execute_result"
    }
   ],
   "source": [
    "list(preorder_traversal(expr))"
   ]
  },
  {
   "cell_type": "code",
   "execution_count": 66,
   "id": "84fae190",
   "metadata": {},
   "outputs": [
    {
     "data": {
      "text/plain": [
       "(sympy.core.mul.Mul, (2, exp(-x), log(1 - x)))"
      ]
     },
     "execution_count": 66,
     "metadata": {},
     "output_type": "execute_result"
    }
   ],
   "source": [
    "expr.__class__, expr.args"
   ]
  },
  {
   "cell_type": "code",
   "execution_count": 67,
   "id": "97b50a00",
   "metadata": {},
   "outputs": [
    {
     "data": {
      "text/plain": [
       "(exp, (-x,))"
      ]
     },
     "execution_count": 67,
     "metadata": {},
     "output_type": "execute_result"
    }
   ],
   "source": [
    "expr.args[1].__class__, expr.args[1].args"
   ]
  },
  {
   "cell_type": "code",
   "execution_count": 68,
   "id": "2ddbfe25",
   "metadata": {},
   "outputs": [
    {
     "data": {
      "text/plain": [
       "{-1, 1, 2, x}"
      ]
     },
     "execution_count": 68,
     "metadata": {},
     "output_type": "execute_result"
    }
   ],
   "source": [
    "expr.atoms()"
   ]
  },
  {
   "cell_type": "code",
   "execution_count": 69,
   "id": "d13cded3",
   "metadata": {},
   "outputs": [
    {
     "data": {
      "text/plain": [
       "{-1, 1, 2}"
      ]
     },
     "execution_count": 69,
     "metadata": {},
     "output_type": "execute_result"
    }
   ],
   "source": [
    "expr.atoms(Integer)"
   ]
  },
  {
   "cell_type": "code",
   "execution_count": 70,
   "id": "dcd115cf",
   "metadata": {},
   "outputs": [
    {
     "data": {
      "text/plain": [
       "{x}"
      ]
     },
     "execution_count": 70,
     "metadata": {},
     "output_type": "execute_result"
    }
   ],
   "source": [
    "expr.atoms(Symbol)"
   ]
  },
  {
   "cell_type": "code",
   "execution_count": 71,
   "id": "56f4ecf6",
   "metadata": {},
   "outputs": [
    {
     "data": {
      "text/latex": [
       "$\\displaystyle \\left( x \\mapsto 1 - x^{2} \\right)$"
      ],
      "text/plain": [
       "Lambda(x, 1 - x**2)"
      ]
     },
     "execution_count": 71,
     "metadata": {},
     "output_type": "execute_result"
    }
   ],
   "source": [
    "g"
   ]
  },
  {
   "cell_type": "code",
   "execution_count": 72,
   "id": "525a40be",
   "metadata": {},
   "outputs": [
    {
     "data": {
      "text/plain": [
       "set()"
      ]
     },
     "execution_count": 72,
     "metadata": {},
     "output_type": "execute_result"
    }
   ],
   "source": [
    "g.free_symbols"
   ]
  },
  {
   "cell_type": "code",
   "execution_count": 74,
   "id": "010aef59",
   "metadata": {},
   "outputs": [],
   "source": [
    "b = Symbol('b')"
   ]
  },
  {
   "cell_type": "code",
   "execution_count": 75,
   "id": "eb7cc52a",
   "metadata": {},
   "outputs": [
    {
     "data": {
      "text/plain": [
       "{alpha, b}"
      ]
     },
     "execution_count": 75,
     "metadata": {},
     "output_type": "execute_result"
    }
   ],
   "source": [
    "Lambda([x, y], a*x + b*y).free_symbols"
   ]
  },
  {
   "cell_type": "markdown",
   "id": "60dbbe98",
   "metadata": {},
   "source": [
    "## Querying Properties"
   ]
  },
  {
   "cell_type": "code",
   "execution_count": 77,
   "id": "e9a04a54",
   "metadata": {},
   "outputs": [
    {
     "data": {
      "text/plain": [
       "True"
      ]
     },
     "execution_count": 77,
     "metadata": {},
     "output_type": "execute_result"
    }
   ],
   "source": [
    "(pi**2 - 9).is_positive"
   ]
  },
  {
   "cell_type": "code",
   "execution_count": 78,
   "id": "5a9b6585",
   "metadata": {},
   "outputs": [
    {
     "data": {
      "text/latex": [
       "$\\displaystyle -9 + \\pi^{2}$"
      ],
      "text/plain": [
       "-9 + pi**2"
      ]
     },
     "execution_count": 78,
     "metadata": {},
     "output_type": "execute_result"
    }
   ],
   "source": [
    "(pi**2 - 9)"
   ]
  },
  {
   "cell_type": "code",
   "execution_count": 81,
   "id": "98a4abc6",
   "metadata": {},
   "outputs": [
    {
     "data": {
      "text/latex": [
       "$\\displaystyle \\sqrt{z^{2}}$"
      ],
      "text/plain": [
       "sqrt(z**2)"
      ]
     },
     "execution_count": 81,
     "metadata": {},
     "output_type": "execute_result"
    }
   ],
   "source": [
    "sqrt(z**2)"
   ]
  },
  {
   "cell_type": "code",
   "execution_count": 85,
   "id": "7a57b554",
   "metadata": {},
   "outputs": [
    {
     "data": {
      "text/plain": [
       "True"
      ]
     },
     "execution_count": 85,
     "metadata": {},
     "output_type": "execute_result"
    }
   ],
   "source": [
    "sqrt(z**2).is_real is None"
   ]
  },
  {
   "cell_type": "markdown",
   "id": "21fe2808",
   "metadata": {},
   "source": [
    "## Substitution"
   ]
  },
  {
   "cell_type": "code",
   "execution_count": 87,
   "id": "faf2e598",
   "metadata": {},
   "outputs": [],
   "source": [
    "x, y = symbols('x y', real=True)"
   ]
  },
  {
   "cell_type": "code",
   "execution_count": 88,
   "id": "10519802",
   "metadata": {},
   "outputs": [
    {
     "data": {
      "text/latex": [
       "$\\displaystyle e^{y} \\cos{\\left(x \\right)}$"
      ],
      "text/plain": [
       "exp(y)*cos(x)"
      ]
     },
     "execution_count": 88,
     "metadata": {},
     "output_type": "execute_result"
    }
   ],
   "source": [
    "(cos(x) * exp(y))"
   ]
  },
  {
   "cell_type": "code",
   "execution_count": 90,
   "id": "a68b762b",
   "metadata": {},
   "outputs": [
    {
     "data": {
      "text/latex": [
       "$\\displaystyle - e^{2}$"
      ],
      "text/plain": [
       "-exp(2)"
      ]
     },
     "execution_count": 90,
     "metadata": {},
     "output_type": "execute_result"
    }
   ],
   "source": [
    "(cos(x) * exp(y)).subs({x: pi, y:2})"
   ]
  },
  {
   "cell_type": "code",
   "execution_count": 92,
   "id": "727cdd22",
   "metadata": {},
   "outputs": [
    {
     "data": {
      "text/latex": [
       "$\\displaystyle \\frac{e^{x + 1}}{x^{2} - 2}$"
      ],
      "text/plain": [
       "exp(x + 1)/(x**2 - 2)"
      ]
     },
     "execution_count": 92,
     "metadata": {},
     "output_type": "execute_result"
    }
   ],
   "source": [
    "expr = exp(x+1) / (x**2-2)\n",
    "expr"
   ]
  },
  {
   "cell_type": "code",
   "execution_count": 93,
   "id": "2b73ba7a",
   "metadata": {},
   "outputs": [
    {
     "data": {
      "text/latex": [
       "$\\displaystyle \\frac{e^{3}}{2}$"
      ],
      "text/plain": [
       "exp(3)/2"
      ]
     },
     "execution_count": 93,
     "metadata": {},
     "output_type": "execute_result"
    }
   ],
   "source": [
    "expr.subs(x, 2)"
   ]
  },
  {
   "cell_type": "code",
   "execution_count": 97,
   "id": "da1f06f3",
   "metadata": {},
   "outputs": [
    {
     "data": {
      "text/latex": [
       "$\\displaystyle \\sqrt{\\left(z - 1\\right)^{2}}$"
      ],
      "text/plain": [
       "sqrt((z - 1)**2)"
      ]
     },
     "execution_count": 97,
     "metadata": {},
     "output_type": "execute_result"
    }
   ],
   "source": [
    "e = sqrt((z-1)**2)\n",
    "e"
   ]
  },
  {
   "cell_type": "code",
   "execution_count": 99,
   "id": "847fb4cb",
   "metadata": {},
   "outputs": [
    {
     "data": {
      "text/latex": [
       "$\\displaystyle \\sqrt{\\alpha^{2}}$"
      ],
      "text/plain": [
       "sqrt(alpha**2)"
      ]
     },
     "execution_count": 99,
     "metadata": {},
     "output_type": "execute_result"
    }
   ],
   "source": [
    "e.subs(z, 1+a)"
   ]
  },
  {
   "cell_type": "markdown",
   "id": "67616b0e",
   "metadata": {},
   "source": [
    "## Simplify\n",
    "\n",
    "* applies heuristic combination of simplification algorithms\n",
    "* not a well defined concept\n",
    "* what is considered simplest depends on what's done next"
   ]
  },
  {
   "cell_type": "code",
   "execution_count": 102,
   "id": "7099b3cb",
   "metadata": {},
   "outputs": [
    {
     "data": {
      "text/latex": [
       "$\\displaystyle \\sin^{2}{\\left(x \\right)} + \\cos^{2}{\\left(x \\right)}$"
      ],
      "text/plain": [
       "sin(x)**2 + cos(x)**2"
      ]
     },
     "execution_count": 102,
     "metadata": {},
     "output_type": "execute_result"
    }
   ],
   "source": [
    "cos(x)**2 + sin(x)**2"
   ]
  },
  {
   "cell_type": "code",
   "execution_count": 101,
   "id": "91906007",
   "metadata": {},
   "outputs": [
    {
     "data": {
      "text/latex": [
       "$\\displaystyle 1$"
      ],
      "text/plain": [
       "1"
      ]
     },
     "execution_count": 101,
     "metadata": {},
     "output_type": "execute_result"
    }
   ],
   "source": [
    "simplify(cos(x)**2 + sin(x)**2)"
   ]
  },
  {
   "cell_type": "code",
   "execution_count": 103,
   "id": "35aac9db",
   "metadata": {},
   "outputs": [
    {
     "data": {
      "text/latex": [
       "$\\displaystyle \\cos{\\left(\\log{\\left(\\alpha^{2} \\right)} \\right)} \\tan{\\left(\\log{\\left(\\alpha^{2} \\right)} \\right)}$"
      ],
      "text/plain": [
       "cos(log(alpha**2))*tan(log(alpha**2))"
      ]
     },
     "execution_count": 103,
     "metadata": {},
     "output_type": "execute_result"
    }
   ],
   "source": [
    "cos(log(a**2))*tan(log(a**2))"
   ]
  },
  {
   "cell_type": "code",
   "execution_count": 104,
   "id": "5eab014c",
   "metadata": {},
   "outputs": [
    {
     "data": {
      "text/latex": [
       "$\\displaystyle \\sin{\\left(\\log{\\left(\\alpha^{2} \\right)} \\right)}$"
      ],
      "text/plain": [
       "sin(log(alpha**2))"
      ]
     },
     "execution_count": 104,
     "metadata": {},
     "output_type": "execute_result"
    }
   ],
   "source": [
    "simplify(cos(log(a**2))*tan(log(a**2)))"
   ]
  },
  {
   "cell_type": "code",
   "execution_count": 106,
   "id": "9d8397fe",
   "metadata": {},
   "outputs": [
    {
     "data": {
      "text/plain": [
       "(<function sympy.simplify.radsimp.radsimp(expr, symbolic=True, max_terms=4)>,\n",
       " <function sympy.simplify.trigsimp.trigsimp(expr, **opts)>,\n",
       " <function sympy.polys.polytools.cancel(f, *gens, **args)>,\n",
       " <function sympy.polys.rationaltools.together(expr, deep=False, fraction=True)>,\n",
       " <function sympy.polys.partfrac.apart(f, x=None, full=False, **options)>)"
      ]
     },
     "execution_count": 106,
     "metadata": {},
     "output_type": "execute_result"
    }
   ],
   "source": [
    "radsimp, trigsimp, cancel, together, apart"
   ]
  },
  {
   "cell_type": "markdown",
   "id": "5736d490",
   "metadata": {},
   "source": [
    "## Numerical Evaluation"
   ]
  },
  {
   "cell_type": "code",
   "execution_count": 108,
   "id": "5e6c1536",
   "metadata": {},
   "outputs": [
    {
     "data": {
      "text/latex": [
       "$\\displaystyle \\frac{e^{x}}{x + 1}$"
      ],
      "text/plain": [
       "exp(x)/(x + 1)"
      ]
     },
     "execution_count": 108,
     "metadata": {},
     "output_type": "execute_result"
    }
   ],
   "source": [
    "expr = exp(x)/(x+1)\n",
    "deriv = diff(expr, x)\n",
    "expr"
   ]
  },
  {
   "cell_type": "code",
   "execution_count": 110,
   "id": "e3d49027",
   "metadata": {},
   "outputs": [
    {
     "data": {
      "text/latex": [
       "$\\displaystyle \\frac{e^{x}}{x + 1} - \\frac{e^{x}}{\\left(x + 1\\right)^{2}}$"
      ],
      "text/plain": [
       "exp(x)/(x + 1) - exp(x)/(x + 1)**2"
      ]
     },
     "execution_count": 110,
     "metadata": {},
     "output_type": "execute_result"
    }
   ],
   "source": [
    "deriv"
   ]
  },
  {
   "cell_type": "code",
   "execution_count": 111,
   "id": "70776ffd",
   "metadata": {},
   "outputs": [
    {
     "data": {
      "text/latex": [
       "$\\displaystyle 0.849702535502635$"
      ],
      "text/plain": [
       "0.849702535502635"
      ]
     },
     "execution_count": 111,
     "metadata": {},
     "output_type": "execute_result"
    }
   ],
   "source": [
    "N(deriv, subs={x:1.2345})"
   ]
  },
  {
   "cell_type": "markdown",
   "id": "471d1fb9",
   "metadata": {},
   "source": [
    "## Compiling Expression\n",
    "* compiles the expression into numpy code"
   ]
  },
  {
   "cell_type": "code",
   "execution_count": null,
   "id": "72bd0623",
   "metadata": {},
   "outputs": [],
   "source": []
  }
 ],
 "metadata": {
  "kernelspec": {
   "display_name": "Python 3",
   "language": "python",
   "name": "python3"
  },
  "language_info": {
   "codemirror_mode": {
    "name": "ipython",
    "version": 3
   },
   "file_extension": ".py",
   "mimetype": "text/x-python",
   "name": "python",
   "nbconvert_exporter": "python",
   "pygments_lexer": "ipython3",
   "version": "3.7.4"
  }
 },
 "nbformat": 4,
 "nbformat_minor": 5
}
